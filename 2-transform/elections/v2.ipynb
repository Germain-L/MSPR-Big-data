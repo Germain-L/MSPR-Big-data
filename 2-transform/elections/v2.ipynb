{
 "cells": [
  {
   "cell_type": "code",
   "execution_count": 114,
   "metadata": {},
   "outputs": [],
   "source": [
    "import pandas as pd\n",
    "import numpy as np\n",
    "import matplotlib.pyplot as plt\n",
    "import seaborn as sns\n",
    "import os\n",
    "import glob"
   ]
  },
  {
   "cell_type": "markdown",
   "metadata": {},
   "source": [
    "# 1995"
   ]
  },
  {
   "cell_type": "code",
   "execution_count": 115,
   "metadata": {},
   "outputs": [
    {
     "name": "stderr",
     "output_type": "stream",
     "text": [
      "/tmp/ipykernel_183921/1338600428.py:1: DtypeWarning: Columns (0) have mixed types. Specify dtype option on import or set low_memory=False.\n",
      "  df_1995 = pd.read_csv(\"../../1-extract/csv/1995_tour_1.csv\")\n"
     ]
    }
   ],
   "source": [
    "df_1995 = pd.read_csv(\"../../1-extract/csv/1995_tour_1.csv\")"
   ]
  },
  {
   "cell_type": "code",
   "execution_count": 116,
   "metadata": {},
   "outputs": [],
   "source": [
    "df_1995[\"annee\"] = 1995"
   ]
  },
  {
   "cell_type": "code",
   "execution_count": 117,
   "metadata": {},
   "outputs": [],
   "source": [
    "cols_communes = ['Code du département', 'Libellé du département', 'Code de la commune',\n",
    "                 'Libellé de la commune', 'Inscrits', 'Abstentions', '% Abs/Ins',\n",
    "                 'Votants', '% Vot/Ins', 'Blancs et nuls', '% BlNuls/Ins',\n",
    "                 '% BlNuls/Vot', 'Exprimés', '% Exp/Ins', '% Exp/Vot']\n",
    "cols_candidats = ['Sexe', 'Nom', 'Prénom', 'Voix', '% Voix/Ins', '% Voix/Exp']"
   ]
  },
  {
   "cell_type": "code",
   "execution_count": 118,
   "metadata": {},
   "outputs": [],
   "source": [
    "data = []"
   ]
  },
  {
   "cell_type": "code",
   "execution_count": 119,
   "metadata": {},
   "outputs": [
    {
     "name": "stderr",
     "output_type": "stream",
     "text": [
      "/tmp/ipykernel_183921/239017911.py:13: SettingWithCopyWarning: \n",
      "A value is trying to be set on a copy of a slice from a DataFrame.\n",
      "Try using .loc[row_indexer,col_indexer] = value instead\n",
      "\n",
      "See the caveats in the documentation: https://pandas.pydata.org/pandas-docs/stable/user_guide/indexing.html#returning-a-view-versus-a-copy\n",
      "  df_candidat['Candidat_ID'] = i\n"
     ]
    }
   ],
   "source": [
    "for i in range(9):  # Ajustez le 9 au nombre réel de candidats\n",
    "    if i == 0:\n",
    "        cols_selection = cols_communes + cols_candidats\n",
    "    else:\n",
    "        cols_selection = cols_communes + [f'{col}.{i}' for col in cols_candidats]\n",
    "    \n",
    "    # Renommage des colonnes pour enlever le suffixe pour les candidats suivants\n",
    "    if i == 0:\n",
    "        df_candidat = df_1995[cols_selection]\n",
    "    else:\n",
    "        df_candidat = df_1995[cols_selection].rename(columns={f'{col}.{i}': col for col in cols_candidats})\n",
    "    \n",
    "    df_candidat['Candidat_ID'] = i\n",
    "    data.append(df_candidat)"
   ]
  },
  {
   "cell_type": "code",
   "execution_count": 120,
   "metadata": {},
   "outputs": [],
   "source": [
    "df_final = pd.concat(data, ignore_index=True)"
   ]
  },
  {
   "cell_type": "code",
   "execution_count": 121,
   "metadata": {},
   "outputs": [],
   "source": [
    "df_final.to_csv(\"./export/1995_tour_1_clean.csv\", index=False)"
   ]
  },
  {
   "cell_type": "markdown",
   "metadata": {},
   "source": [
    "# 2002"
   ]
  },
  {
   "cell_type": "code",
   "execution_count": 122,
   "metadata": {},
   "outputs": [
    {
     "name": "stderr",
     "output_type": "stream",
     "text": [
      "/tmp/ipykernel_183921/1075155333.py:1: DtypeWarning: Columns (0) have mixed types. Specify dtype option on import or set low_memory=False.\n",
      "  df_2002 = pd.read_csv(\"../../1-extract/csv/2002_tour_1.csv\")\n"
     ]
    }
   ],
   "source": [
    "df_2002 = pd.read_csv(\"../../1-extract/csv/2002_tour_1.csv\")"
   ]
  },
  {
   "cell_type": "code",
   "execution_count": 123,
   "metadata": {},
   "outputs": [],
   "source": [
    "cols_communes = ['Code du département', 'Libellé du département', 'Code de la commune',\n",
    "                 'Libellé de la commune', 'Inscrits', 'Abstentions', '% Abs/Ins',\n",
    "                 'Votants', '% Vot/Ins', 'Blancs et nuls', '% BlNuls/Ins',\n",
    "                 '% BlNuls/Vot', 'Exprimés', '% Exp/Ins', '% Exp/Vot']"
   ]
  },
  {
   "cell_type": "code",
   "execution_count": 124,
   "metadata": {},
   "outputs": [],
   "source": [
    "cols_candidats = ['Sexe', 'Nom', 'Prénom', 'Voix', '% Voix/Ins', '% Voix/Exp']"
   ]
  },
  {
   "cell_type": "code",
   "execution_count": 125,
   "metadata": {},
   "outputs": [],
   "source": [
    "data = []"
   ]
  },
  {
   "cell_type": "code",
   "execution_count": 126,
   "metadata": {},
   "outputs": [],
   "source": [
    "for i in range(16):  # Ajustez le 16 au nombre réel de candidats si nécessaire\n",
    "    # Pour le premier candidat, pas de suffixe. Pour les autres, ajoutez le suffixe\n",
    "    if i == 0:\n",
    "        cols_selection = cols_communes + cols_candidats\n",
    "        df_candidat = df_2002[cols_selection].copy()\n",
    "    else:\n",
    "        cols_selection = cols_communes + [f'{col}.{i}' for col in cols_candidats]\n",
    "        df_candidat = df_2002[cols_selection].copy().rename(columns={f'{col}.{i}': col for col in cols_candidats})\n",
    "    \n",
    "    df_candidat['Candidat_ID'] = i\n",
    "    data.append(df_candidat)"
   ]
  },
  {
   "cell_type": "code",
   "execution_count": 127,
   "metadata": {},
   "outputs": [],
   "source": [
    "df_final = pd.concat(data, ignore_index=True)"
   ]
  },
  {
   "cell_type": "code",
   "execution_count": 128,
   "metadata": {},
   "outputs": [],
   "source": [
    "df_final.to_csv(\"./export/2002_tour_1_clean.csv\", index=False)"
   ]
  },
  {
   "cell_type": "markdown",
   "metadata": {},
   "source": [
    "# 2007"
   ]
  },
  {
   "cell_type": "code",
   "execution_count": 129,
   "metadata": {},
   "outputs": [
    {
     "name": "stderr",
     "output_type": "stream",
     "text": [
      "/tmp/ipykernel_183921/1293011664.py:1: DtypeWarning: Columns (0) have mixed types. Specify dtype option on import or set low_memory=False.\n",
      "  df_2007 = pd.read_csv(\"../../1-extract/csv/2007_tour_1.csv\")\n"
     ]
    }
   ],
   "source": [
    "df_2007 = pd.read_csv(\"../../1-extract/csv/2007_tour_1.csv\")"
   ]
  },
  {
   "cell_type": "code",
   "execution_count": 130,
   "metadata": {},
   "outputs": [],
   "source": [
    "cols_communes = [\n",
    "    'Code du département', 'Libellé du département', 'Code de la commune',\n",
    "    'Libellé de la commune', 'Inscrits', 'Abstentions', '% Abs/Ins',\n",
    "    'Votants', '% Vot/Ins', 'Blancs et nuls', '% BlNuls/Ins',\n",
    "    '% BlNuls/Vot', 'Exprimés', '% Exp/Ins', '% Exp/Vot'\n",
    "]\n",
    "\n",
    "cols_candidats = [\n",
    "    'Sexe', 'Nom', 'Prénom', 'Voix', '% Voix/Ins', '% Voix/Exp'\n",
    "]\n",
    "\n",
    "data = []\n"
   ]
  },
  {
   "cell_type": "code",
   "execution_count": 131,
   "metadata": {},
   "outputs": [],
   "source": [
    "cols_candidats = [\n",
    "    'Sexe', 'Nom', 'Prénom', 'Voix', '% Voix/Ins', '% Voix/Exp'\n",
    "]"
   ]
  },
  {
   "cell_type": "code",
   "execution_count": 132,
   "metadata": {},
   "outputs": [],
   "source": [
    "# Il y a jusqu'à 12 candidats, donc nous bouclons de 0 à 11\n",
    "for i in range(12):  # Ajustez selon le nombre réel de candidats si nécessaire\n",
    "    # Pour le premier candidat, pas de suffixe. Pour les autres, ajoutez le suffixe\n",
    "    if i == 0:\n",
    "        cols_selection = cols_communes + cols_candidats\n",
    "        df_candidat = df_2007[cols_selection].copy()\n",
    "    else:\n",
    "        cols_selection = cols_communes + [f'{col}.{i}' for col in cols_candidats]\n",
    "        df_candidat = df_2007[cols_selection].copy().rename(columns={f'{col}.{i}': col for col in cols_candidats})\n",
    "    \n",
    "    df_candidat['Candidat_ID'] = i\n",
    "    data.append(df_candidat)"
   ]
  },
  {
   "cell_type": "code",
   "execution_count": 133,
   "metadata": {},
   "outputs": [],
   "source": [
    "df_final = pd.concat(data, ignore_index=True)"
   ]
  },
  {
   "cell_type": "code",
   "execution_count": 134,
   "metadata": {},
   "outputs": [],
   "source": [
    "df_final.to_csv(\"./export/2007_tour_1_clean.csv\", index=False)"
   ]
  },
  {
   "cell_type": "markdown",
   "metadata": {},
   "source": [
    "# 2012"
   ]
  },
  {
   "cell_type": "code",
   "execution_count": 135,
   "metadata": {},
   "outputs": [
    {
     "name": "stderr",
     "output_type": "stream",
     "text": [
      "/tmp/ipykernel_183921/2732577114.py:1: DtypeWarning: Columns (0) have mixed types. Specify dtype option on import or set low_memory=False.\n",
      "  df_2012 = pd.read_csv(\"../../1-extract/csv/2012_tour_1.csv\")\n"
     ]
    }
   ],
   "source": [
    "df_2012 = pd.read_csv(\"../../1-extract/csv/2012_tour_1.csv\")"
   ]
  },
  {
   "cell_type": "code",
   "execution_count": 136,
   "metadata": {},
   "outputs": [],
   "source": [
    "cols_communes = [\n",
    "    'Code du département', 'Libellé du département', 'Code de la commune',\n",
    "    'Libellé de la commune', 'Inscrits', 'Abstentions', '% Abs/Ins',\n",
    "    'Votants', '% Vot/Ins', 'Blancs et nuls', '% BlNuls/Ins',\n",
    "    '% BlNuls/Vot', 'Exprimés', '% Exp/Ins', '% Exp/Vot'\n",
    "]\n",
    "\n",
    "cols_candidats = [\n",
    "    'Sexe', 'Nom', 'Prénom', 'Voix', '% Voix/Ins', '% Voix/Exp'\n",
    "]\n",
    "\n",
    "data = []"
   ]
  },
  {
   "cell_type": "code",
   "execution_count": 137,
   "metadata": {},
   "outputs": [],
   "source": [
    "for i in range(10):  # Ajustez selon le nombre réel de candidats si nécessaire\n",
    "    # Pour le premier candidat, pas de suffixe. Pour les autres, ajoutez le suffixe\n",
    "    if i == 0:\n",
    "        cols_selection = cols_communes + cols_candidats\n",
    "        df_candidat = df_2012[cols_selection].copy()\n",
    "    else:\n",
    "        cols_selection = cols_communes + [f'{col}.{i}' for col in cols_candidats]\n",
    "        df_candidat = df_2012[cols_selection].copy().rename(columns={f'{col}.{i}': col for col in cols_candidats})\n",
    "    \n",
    "    df_candidat['Candidat_ID'] = i\n",
    "    data.append(df_candidat)"
   ]
  },
  {
   "cell_type": "code",
   "execution_count": 138,
   "metadata": {},
   "outputs": [],
   "source": [
    "df_final = pd.concat(data, ignore_index=True)"
   ]
  },
  {
   "cell_type": "code",
   "execution_count": 139,
   "metadata": {},
   "outputs": [],
   "source": [
    "df_final.to_csv(\"./export/2012_tour_1_clean.csv\", index=False)"
   ]
  },
  {
   "cell_type": "markdown",
   "metadata": {},
   "source": [
    "# 2017"
   ]
  },
  {
   "cell_type": "code",
   "execution_count": 140,
   "metadata": {},
   "outputs": [
    {
     "name": "stderr",
     "output_type": "stream",
     "text": [
      "/tmp/ipykernel_183921/4023103097.py:1: DtypeWarning: Columns (0) have mixed types. Specify dtype option on import or set low_memory=False.\n",
      "  df_2017 = pd.read_csv(\"../../1-extract/csv/2017_tour_1.csv\")\n"
     ]
    }
   ],
   "source": [
    "df_2017 = pd.read_csv(\"../../1-extract/csv/2017_tour_1.csv\")"
   ]
  },
  {
   "cell_type": "code",
   "execution_count": 141,
   "metadata": {},
   "outputs": [],
   "source": [
    "cols_communes = [\n",
    "    'Code du département', 'Libellé du département', 'Code de la commune',\n",
    "    'Libellé de la commune', 'Inscrits', 'Abstentions', '% Abs/Ins',\n",
    "    'Votants', '% Vot/Ins', 'Blancs', '% Blancs/Ins', '% Blancs/Vot',\n",
    "    'Nuls', '% Nuls/Ins', '% Nuls/Vot', 'Exprimés', '% Exp/Ins', '% Exp/Vot'\n",
    "]\n",
    "\n",
    "cols_candidats = [\n",
    "    'N°Panneau', 'Sexe', 'Nom', 'Prénom', 'Voix', '% Voix/Ins', '% Voix/Exp'\n",
    "]\n",
    "\n",
    "data = []"
   ]
  },
  {
   "cell_type": "code",
   "execution_count": 142,
   "metadata": {},
   "outputs": [],
   "source": [
    "for i in range(11):  # Ajustez selon le nombre réel de candidats si nécessaire\n",
    "    # Pour chaque candidat, ajustez les colonnes sélectionnées et renommez-les si nécessaire\n",
    "    if i == 0:\n",
    "        cols_selection = cols_communes + cols_candidats\n",
    "        df_candidat = df_2017[cols_selection].copy()\n",
    "    else:\n",
    "        cols_selection = cols_communes + [f'{col}.{i}' for col in cols_candidats]\n",
    "        df_candidat = df_2017[cols_selection].copy().rename(columns={f'{col}.{i}': col for col in cols_candidats})\n",
    "    \n",
    "    df_candidat['Candidat_ID'] = i\n",
    "    data.append(df_candidat)"
   ]
  },
  {
   "cell_type": "code",
   "execution_count": 143,
   "metadata": {},
   "outputs": [],
   "source": [
    "df_final = pd.concat(data, ignore_index=True)"
   ]
  },
  {
   "cell_type": "code",
   "execution_count": 144,
   "metadata": {},
   "outputs": [],
   "source": [
    "df_final.to_csv(\"./export/2017_tour_1_clean.csv\", index=False)"
   ]
  },
  {
   "cell_type": "markdown",
   "metadata": {},
   "source": [
    "# 2022"
   ]
  },
  {
   "cell_type": "code",
   "execution_count": 145,
   "metadata": {},
   "outputs": [
    {
     "name": "stderr",
     "output_type": "stream",
     "text": [
      "/tmp/ipykernel_183921/2805148401.py:1: DtypeWarning: Columns (0,6) have mixed types. Specify dtype option on import or set low_memory=False.\n",
      "  df_2022 = pd.read_csv(\"../../1-extract/csv/2022_tour_1.csv\")\n"
     ]
    }
   ],
   "source": [
    "df_2022 = pd.read_csv(\"../../1-extract/csv/2022_tour_1.csv\")"
   ]
  },
  {
   "cell_type": "code",
   "execution_count": 146,
   "metadata": {},
   "outputs": [],
   "source": [
    "cols_communes = [\n",
    "    'Code du département', 'Libellé du département', 'Code de la circonscription',\n",
    "    'Libellé de la circonscription', 'Code de la commune', 'Libellé de la commune',\n",
    "    'Code du b.vote', 'Inscrits', 'Abstentions', '% Abs/Ins', 'Votants', '% Vot/Ins',\n",
    "    'Blancs', '% Blancs/Ins', '% Blancs/Vot', 'Nuls', '% Nuls/Ins', '% Nuls/Vot',\n",
    "    'Exprimés', '% Exp/Ins', '% Exp/Vot'\n",
    "]\n",
    "\n",
    "cols_candidats = [\n",
    "    'N°Panneau', 'Sexe', 'Nom', 'Prénom', 'Voix', '% Voix/Ins', '% Voix/Exp'\n",
    "]\n",
    "\n",
    "data = []\n",
    "\n",
    "# Il y a jusqu'à 12 candidats, donc nous bouclons de 0 à 11\n",
    "for i in range(12):  # Ajustez selon le nombre réel de candidats si nécessaire\n",
    "    # Pour chaque candidat, ajustez les colonnes sélectionnées et renommez-les si nécessaire\n",
    "    if i == 0:\n",
    "        cols_selection = cols_communes + cols_candidats\n",
    "        df_candidat = df_2022[cols_selection].copy()\n",
    "    else:\n",
    "        cols_selection = cols_communes + [f'{col}.{i}' for col in cols_candidats]\n",
    "        df_candidat = df_2022[cols_selection].copy().rename(columns={f'{col}.{i}': col for col in cols_candidats})\n",
    "    \n",
    "    df_candidat['Candidat_ID'] = i\n",
    "    data.append(df_candidat)\n",
    "\n",
    "# Concaténation de tous les DataFrames de candidats en un seul\n",
    "df_final = pd.concat(data, ignore_index=True)\n",
    "\n",
    "df_final.to_csv(\"./export/2022_tour_1_clean.csv\", index=False)"
   ]
  },
  {
   "cell_type": "code",
   "execution_count": 148,
   "metadata": {},
   "outputs": [
    {
     "name": "stderr",
     "output_type": "stream",
     "text": [
      "/tmp/ipykernel_183921/2583055890.py:3: DtypeWarning: Columns (0) have mixed types. Specify dtype option on import or set low_memory=False.\n",
      "  df_2007_final = pd.read_csv(\"./export/2007_tour_1_clean.csv\")\n",
      "/tmp/ipykernel_183921/2583055890.py:6: DtypeWarning: Columns (0) have mixed types. Specify dtype option on import or set low_memory=False.\n",
      "  df_2022_final = pd.read_csv(\"./export/2022_tour_1_clean.csv\")\n"
     ]
    }
   ],
   "source": [
    "df_1995_final = pd.read_csv(\"./export/1995_tour_1_clean.csv\")\n",
    "df_2002_final = pd.read_csv(\"./export/2002_tour_1_clean.csv\")\n",
    "df_2007_final = pd.read_csv(\"./export/2007_tour_1_clean.csv\")\n",
    "df_2012_final = pd.read_csv(\"./export/2012_tour_1_clean.csv\")\n",
    "df_2017_final = pd.read_csv(\"./export/2017_tour_1_clean.csv\")\n",
    "df_2022_final = pd.read_csv(\"./export/2022_tour_1_clean.csv\")"
   ]
  },
  {
   "cell_type": "code",
   "execution_count": 151,
   "metadata": {},
   "outputs": [
    {
     "name": "stdout",
     "output_type": "stream",
     "text": [
      "1995\n",
      "Code du département\n",
      "Libellé du département\n",
      "Code de la commune\n",
      "Libellé de la commune\n",
      "Inscrits\n",
      "Abstentions\n",
      "% Abs/Ins\n",
      "Votants\n",
      "% Vot/Ins\n",
      "Blancs et nuls\n",
      "% BlNuls/Ins\n",
      "% BlNuls/Vot\n",
      "Exprimés\n",
      "% Exp/Ins\n",
      "% Exp/Vot\n",
      "Sexe\n",
      "Nom\n",
      "Prénom\n",
      "Voix\n",
      "% Voix/Ins\n",
      "% Voix/Exp\n",
      "Candidat_ID\n",
      "\n",
      "\n",
      "2002\n",
      "Code du département\n",
      "Libellé du département\n",
      "Code de la commune\n",
      "Libellé de la commune\n",
      "Inscrits\n",
      "Abstentions\n",
      "% Abs/Ins\n",
      "Votants\n",
      "% Vot/Ins\n",
      "Blancs et nuls\n",
      "% BlNuls/Ins\n",
      "% BlNuls/Vot\n",
      "Exprimés\n",
      "% Exp/Ins\n",
      "% Exp/Vot\n",
      "Sexe\n",
      "Nom\n",
      "Prénom\n",
      "Voix\n",
      "% Voix/Ins\n",
      "% Voix/Exp\n",
      "Candidat_ID\n",
      "\n",
      "\n",
      "2007\n",
      "Code du département\n",
      "Libellé du département\n",
      "Code de la commune\n",
      "Libellé de la commune\n",
      "Inscrits\n",
      "Abstentions\n",
      "% Abs/Ins\n",
      "Votants\n",
      "% Vot/Ins\n",
      "Blancs et nuls\n",
      "% BlNuls/Ins\n",
      "% BlNuls/Vot\n",
      "Exprimés\n",
      "% Exp/Ins\n",
      "% Exp/Vot\n",
      "Sexe\n",
      "Nom\n",
      "Prénom\n",
      "Voix\n",
      "% Voix/Ins\n",
      "% Voix/Exp\n",
      "Candidat_ID\n",
      "\n",
      "\n",
      "2012\n",
      "Code du département\n",
      "Libellé du département\n",
      "Code de la commune\n",
      "Libellé de la commune\n",
      "Inscrits\n",
      "Abstentions\n",
      "% Abs/Ins\n",
      "Votants\n",
      "% Vot/Ins\n",
      "Blancs et nuls\n",
      "% BlNuls/Ins\n",
      "% BlNuls/Vot\n",
      "Exprimés\n",
      "% Exp/Ins\n",
      "% Exp/Vot\n",
      "Sexe\n",
      "Nom\n",
      "Prénom\n",
      "Voix\n",
      "% Voix/Ins\n",
      "% Voix/Exp\n",
      "Candidat_ID\n",
      "\n",
      "\n",
      "2017\n",
      "Code du département\n",
      "Libellé du département\n",
      "Code de la commune\n",
      "Libellé de la commune\n",
      "Inscrits\n",
      "Abstentions\n",
      "% Abs/Ins\n",
      "Votants\n",
      "% Vot/Ins\n",
      "Blancs\n",
      "% Blancs/Ins\n",
      "% Blancs/Vot\n",
      "Nuls\n",
      "% Nuls/Ins\n",
      "% Nuls/Vot\n",
      "Exprimés\n",
      "% Exp/Ins\n",
      "% Exp/Vot\n",
      "N°Panneau\n",
      "Sexe\n",
      "Nom\n",
      "Prénom\n",
      "Voix\n",
      "% Voix/Ins\n",
      "% Voix/Exp\n",
      "Candidat_ID\n",
      "\n",
      "\n",
      "2022\n",
      "Code du département\n",
      "Libellé du département\n",
      "Code de la circonscription\n",
      "Libellé de la circonscription\n",
      "Code de la commune\n",
      "Libellé de la commune\n",
      "Code du b.vote\n",
      "Inscrits\n",
      "Abstentions\n",
      "% Abs/Ins\n",
      "Votants\n",
      "% Vot/Ins\n",
      "Blancs\n",
      "% Blancs/Ins\n",
      "% Blancs/Vot\n",
      "Nuls\n",
      "% Nuls/Ins\n",
      "% Nuls/Vot\n",
      "Exprimés\n",
      "% Exp/Ins\n",
      "% Exp/Vot\n",
      "N°Panneau\n",
      "Sexe\n",
      "Nom\n",
      "Prénom\n",
      "Voix\n",
      "% Voix/Ins\n",
      "% Voix/Exp\n",
      "Candidat_ID\n"
     ]
    }
   ],
   "source": [
    "print(\"1995\")\n",
    "for col in df_1995_final:\n",
    "    print(col)\n",
    "\n",
    "print(\"\\n\\n2002\")\n",
    "for col in df_2002_final:\n",
    "    print(col)\n",
    "    \n",
    "print(\"\\n\\n2007\")\n",
    "for col in df_2007_final:\n",
    "    print(col)\n",
    "    \n",
    "print(\"\\n\\n2012\")\n",
    "for col in df_2012_final:\n",
    "    print(col)\n",
    "    \n",
    "print(\"\\n\\n2017\")\n",
    "for col in df_2017_final:\n",
    "    print(col)\n",
    "    \n",
    "print(\"\\n\\n2022\")\n",
    "for col in df_2022_final:\n",
    "    print(col)"
   ]
  },
  {
   "cell_type": "code",
   "execution_count": 153,
   "metadata": {},
   "outputs": [
    {
     "name": "stderr",
     "output_type": "stream",
     "text": [
      "/tmp/ipykernel_183921/2123156041.py:9: DtypeWarning: Columns (0) have mixed types. Specify dtype option on import or set low_memory=False.\n",
      "  df = pd.read_csv(file_path)\n",
      "/tmp/ipykernel_183921/2123156041.py:9: DtypeWarning: Columns (0) have mixed types. Specify dtype option on import or set low_memory=False.\n",
      "  df = pd.read_csv(file_path)\n"
     ]
    },
    {
     "name": "stdout",
     "output_type": "stream",
     "text": [
      "['VILLIERS DE' 'LE PEN' 'CHIRAC' 'LAGUILLER' 'CHEMINADE' 'JOSPIN' 'VOYNET'\n",
      " 'BALLADUR' 'HUE' 'MEGRET' 'LEPAGE' 'GLUCKSTEIN' 'BAYROU' 'TAUBIRA'\n",
      " 'SAINT-JOSSE' 'MAMERE' 'BOUTIN' 'CHEVENEMENT' 'MADELIN' 'BESANCENOT'\n",
      " 'BUFFET' 'SCHIVARDI' 'BOVÉ' 'de VILLIERS' 'ROYAL' 'NIHOUS' 'SARKOZY'\n",
      " 'JOLY' 'MÉLENCHON' 'POUTOU' 'ARTHAUD' 'DUPONT-AIGNAN' 'HOLLANDE' 'MACRON'\n",
      " 'FILLON' 'LASSALLE' 'HAMON' 'ASSELINEAU' 'ROUSSEL' 'ZEMMOUR' 'HIDALGO'\n",
      " 'JADOT' 'PÉCRESSE']\n"
     ]
    }
   ],
   "source": [
    "import pandas as pd\n",
    "\n",
    "# Example for two years, extend this approach for all years\n",
    "df_list = []\n",
    "for year, file_path in zip([1995, 2002, 2007, 2012, 2017, 2022], \n",
    "                           [\"./export/1995_tour_1_clean.csv\", \"./export/2002_tour_1_clean.csv\", \n",
    "                            \"./export/2007_tour_1_clean.csv\", \"./export/2012_tour_1_clean.csv\", \n",
    "                            \"./export/2017_tour_1_clean.csv\", \"./export/2022_tour_1_clean.csv\"]):\n",
    "    df = pd.read_csv(file_path)\n",
    "    # Adjust columns for 2017 and 2022 data as necessary, e.g., summing Blancs and Nuls\n",
    "    if year >= 2017:\n",
    "        df['Blancs et nuls'] = df['Blancs'] + df['Nuls']\n",
    "        df = df.drop(['Blancs', 'Nuls', 'N°Panneau'], axis=1, errors='ignore')\n",
    "    if year == 2022:\n",
    "        df = df.drop(['Code de la circonscription', 'Libellé de la circonscription', 'Code du b.vote'], axis=1, errors='ignore')\n",
    "    df['Year'] = year\n",
    "    # Ensure the DataFrame only contains the columns we want\n",
    "    df = df[['Year', 'Code du département', 'Libellé du département', 'Code de la commune', 'Libellé de la commune', \n",
    "             'Inscrits', 'Abstentions', '% Abs/Ins', 'Votants', 'Blancs et nuls', 'Exprimés', \n",
    "             'Sexe', 'Nom', 'Prénom', 'Voix', '% Voix/Ins', '% Voix/Exp', 'Candidat_ID']]\n",
    "    df_list.append(df)\n",
    "\n",
    "# Combine all DataFrames\n",
    "combined_df = pd.concat(df_list, ignore_index=True)\n",
    "\n",
    "# Export to a single CSV\n"
   ]
  },
  {
   "cell_type": "code",
   "execution_count": 154,
   "metadata": {},
   "outputs": [
    {
     "name": "stdout",
     "output_type": "stream",
     "text": [
      "['VILLIERS DE' 'LE PEN' 'CHIRAC' 'LAGUILLER' 'CHEMINADE' 'JOSPIN' 'VOYNET'\n",
      " 'BALLADUR' 'HUE' 'MEGRET' 'LEPAGE' 'GLUCKSTEIN' 'BAYROU' 'TAUBIRA'\n",
      " 'SAINT-JOSSE' 'MAMERE' 'BOUTIN' 'CHEVENEMENT' 'MADELIN' 'BESANCENOT'\n",
      " 'BUFFET' 'SCHIVARDI' 'BOVÉ' 'de VILLIERS' 'ROYAL' 'NIHOUS' 'SARKOZY'\n",
      " 'JOLY' 'MÉLENCHON' 'POUTOU' 'ARTHAUD' 'DUPONT-AIGNAN' 'HOLLANDE' 'MACRON'\n",
      " 'FILLON' 'LASSALLE' 'HAMON' 'ASSELINEAU' 'ROUSSEL' 'ZEMMOUR' 'HIDALGO'\n",
      " 'JADOT' 'PÉCRESSE']\n"
     ]
    }
   ],
   "source": [
    "# print all unique candidate names\n",
    "print(combined_df['Nom'].unique())"
   ]
  },
  {
   "cell_type": "code",
   "execution_count": 155,
   "metadata": {},
   "outputs": [
    {
     "name": "stdout",
     "output_type": "stream",
     "text": [
      "   Year Code du département Libellé du département  Code de la commune  \\\n",
      "0  1995                   1                    AIN                   1   \n",
      "1  1995                   1                    AIN                   2   \n",
      "2  1995                   1                    AIN                   4   \n",
      "3  1995                   1                    AIN                   5   \n",
      "4  1995                   1                    AIN                   6   \n",
      "\n",
      "        Libellé de la commune  Inscrits  Abstentions  % Abs/Ins  Votants  \\\n",
      "0  ABERGEMENT CLEMENCIAT (L')       467           94      20.13      373   \n",
      "1    ABERGEMENT DE VAREY (L')       169           21      12.43      148   \n",
      "2           AMBERIEU EN BUGEY      6920         1676      24.22     5244   \n",
      "3         AMBERIEUX EN DOMBES       786          140      17.81      646   \n",
      "4                     AMBLEON        90           17      18.89       73   \n",
      "\n",
      "   Blancs et nuls  Exprimés Sexe          Nom    Prénom  Voix  % Voix/Ins  \\\n",
      "0              18       355    M  VILLIERS DE  PHILIPPE    31        6.64   \n",
      "1               1       147    M  VILLIERS DE  PHILIPPE     6        3.55   \n",
      "2             150      5094    M  VILLIERS DE  PHILIPPE   226        3.27   \n",
      "3              23       623    M  VILLIERS DE  PHILIPPE    42        5.34   \n",
      "4               1        72    M  VILLIERS DE  PHILIPPE     6        6.67   \n",
      "\n",
      "   % Voix/Exp  Candidat_ID Political Orientation  \n",
      "0        8.73            0                 Right  \n",
      "1        4.08            0                 Right  \n",
      "2        4.44            0                 Right  \n",
      "3        6.74            0                 Right  \n",
      "4        8.33            0                 Right  \n"
     ]
    },
    {
     "name": "stderr",
     "output_type": "stream",
     "text": [
      "/tmp/ipykernel_183921/66021659.py:52: FutureWarning: A value is trying to be set on a copy of a DataFrame or Series through chained assignment using an inplace method.\n",
      "The behavior will change in pandas 3.0. This inplace method will never work because the intermediate object on which we are setting values always behaves as a copy.\n",
      "\n",
      "For example, when doing 'df[col].method(value, inplace=True)', try using 'df.method({col: value}, inplace=True)' or df[col] = df[col].method(value) instead, to perform the operation inplace on the original object.\n",
      "\n",
      "\n",
      "  combined_df['Political Orientation'].fillna('Other', inplace=True)\n"
     ]
    }
   ],
   "source": [
    "# Mapping of candidate names to political orientation\n",
    "political_orientation = {\n",
    "    'VILLIERS DE': 'Right',  # Assuming Philippe de Villiers, which would be more Far Right\n",
    "    'LE PEN': 'Far Right',\n",
    "    'CHIRAC': 'Right',\n",
    "    'LAGUILLER': 'Far Left',\n",
    "    'CHEMINADE': 'Other',\n",
    "    'JOSPIN': 'Left',\n",
    "    'VOYNET': 'Left',\n",
    "    'BALLADUR': 'Right',\n",
    "    'HUE': 'Left',\n",
    "    'MEGRET': 'Far Right',\n",
    "    'LEPAGE': 'Centre',\n",
    "    'GLUCKSTEIN': 'Far Left',\n",
    "    'BAYROU': 'Centre',\n",
    "    'TAUBIRA': 'Left',\n",
    "    'SAINT-JOSSE': 'Right',  # Depending on context, could also be considered 'Other'\n",
    "    'MAMERE': 'Left',\n",
    "    'BOUTIN': 'Right',\n",
    "    'CHEVENEMENT': 'Left',\n",
    "    'MADELIN': 'Right',\n",
    "    'BESANCENOT': 'Far Left',\n",
    "    'BUFFET': 'Left',\n",
    "    'SCHIVARDI': 'Other',\n",
    "    'BOVÉ': 'Left',\n",
    "    'de VILLIERS': 'Far Right',  # Correcting 'VILLIERS DE' to 'de Villiers' for Philippe de Villiers\n",
    "    'ROYAL': 'Left',\n",
    "    'NIHOUS': 'Other',  # Represents hunters' interests, difficult to place on a traditional left-right spectrum\n",
    "    'SARKOZY': 'Right',\n",
    "    'JOLY': 'Left',\n",
    "    'MÉLENCHON': 'Far Left',\n",
    "    'POUTOU': 'Far Left',\n",
    "    'ARTHAUD': 'Far Left',\n",
    "    'DUPONT-AIGNAN': 'Right',\n",
    "    'HOLLANDE': 'Left',\n",
    "    'MACRON': 'Centre',\n",
    "    'FILLON': 'Right',\n",
    "    'LASSALLE': 'Centre',\n",
    "    'HAMON': 'Left',\n",
    "    'ASSELINEAU': 'Other',  # Frexit proponent, difficult to classify simply\n",
    "    'ROUSSEL': 'Left',\n",
    "    'ZEMMOUR': 'Far Right',\n",
    "    'HIDALGO': 'Left',\n",
    "    'JADOT': 'Left',\n",
    "    'PÉCRESSE': 'Right'\n",
    "}\n",
    "\n",
    "# Apply the mapping to create a new column in the DataFrame\n",
    "combined_df['Political Orientation'] = combined_df['Nom'].map(political_orientation)\n",
    "\n",
    "# If there are any candidates not covered by the mapping, you might want to fill NaN values with 'Other' or a similar default category\n",
    "combined_df['Political Orientation'].fillna('Other', inplace=True)\n",
    "\n",
    "# Now, let's check the DataFrame to see the new column\n",
    "print(combined_df.head())"
   ]
  },
  {
   "cell_type": "code",
   "execution_count": 156,
   "metadata": {},
   "outputs": [],
   "source": [
    "combined_df.to_csv(\"./export/combined_election_data.csv\", index=False)"
   ]
  }
 ],
 "metadata": {
  "kernelspec": {
   "display_name": "venv",
   "language": "python",
   "name": "python3"
  },
  "language_info": {
   "codemirror_mode": {
    "name": "ipython",
    "version": 3
   },
   "file_extension": ".py",
   "mimetype": "text/x-python",
   "name": "python",
   "nbconvert_exporter": "python",
   "pygments_lexer": "ipython3",
   "version": "3.11.5"
  }
 },
 "nbformat": 4,
 "nbformat_minor": 2
}
