{
 "cells": [
  {
   "cell_type": "code",
   "execution_count": 12,
   "metadata": {},
   "outputs": [],
   "source": [
    "# %pip install geopandas matplotlib"
   ]
  },
  {
   "cell_type": "code",
   "execution_count": 17,
   "metadata": {},
   "outputs": [],
   "source": [
    "import pandas as pd\n",
    "import numpy as np\n",
    "import matplotlib.pyplot as plt\n",
    "import seaborn as sns\n",
    "import os\n",
    "import glob\n",
    "import geopandas as gpd"
   ]
  },
  {
   "cell_type": "code",
   "execution_count": 14,
   "metadata": {},
   "outputs": [
    {
     "name": "stderr",
     "output_type": "stream",
     "text": [
      "/tmp/ipykernel_190350/4067721250.py:2: DtypeWarning: Columns (1) have mixed types. Specify dtype option on import or set low_memory=False.\n",
      "  combined_df = pd.read_csv(\"../2-transform/elections/export/combined_election_data.csv\")\n"
     ]
    }
   ],
   "source": [
    "# Load the dataset\n",
    "combined_df = pd.read_csv(\"../2-transform/elections/export/combined_election_data.csv\")"
   ]
  },
  {
   "cell_type": "code",
   "execution_count": 15,
   "metadata": {},
   "outputs": [
    {
     "name": "stdout",
     "output_type": "stream",
     "text": [
      "Year\n",
      "Code du département\n",
      "Libellé du département\n",
      "Code de la commune\n",
      "Libellé de la commune\n",
      "Inscrits\n",
      "Abstentions\n",
      "% Abs/Ins\n",
      "Votants\n",
      "Blancs et nuls\n",
      "Exprimés\n",
      "Sexe\n",
      "Nom\n",
      "Prénom\n",
      "Voix\n",
      "% Voix/Ins\n",
      "% Voix/Exp\n",
      "Candidat_ID\n",
      "Political Orientation\n"
     ]
    }
   ],
   "source": [
    "for col in combined_df.columns:\n",
    "    print(col)"
   ]
  },
  {
   "cell_type": "code",
   "execution_count": 16,
   "metadata": {},
   "outputs": [],
   "source": [
    "gironde_2022 = combined_df[(combined_df['Code du département'] == '33') & (combined_df['Year'] == 2022)]"
   ]
  }
 ],
 "metadata": {
  "kernelspec": {
   "display_name": "venv",
   "language": "python",
   "name": "python3"
  },
  "language_info": {
   "codemirror_mode": {
    "name": "ipython",
    "version": 3
   },
   "file_extension": ".py",
   "mimetype": "text/x-python",
   "name": "python",
   "nbconvert_exporter": "python",
   "pygments_lexer": "ipython3",
   "version": "3.11.5"
  }
 },
 "nbformat": 4,
 "nbformat_minor": 2
}
